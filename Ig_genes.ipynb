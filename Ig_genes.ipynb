{
 "cells": [
  {
   "cell_type": "code",
   "execution_count": null,
   "metadata": {},
   "outputs": [],
   "source": [
    "import numpy as np\n",
    "import pandas as pd\n",
    "from gtfparse import read_gtf"
   ]
  },
  {
   "cell_type": "markdown",
   "metadata": {},
   "source": [
    "# Remove genes found in the Ig locus from downstream analyses"
   ]
  },
  {
   "cell_type": "code",
   "execution_count": null,
   "metadata": {},
   "outputs": [],
   "source": [
    "# read in the gene reference used for alignment (if don't have, can download gtf from http://useast.ensembl.org/biomart/martview/)\n",
    "gene_loci = read_gtf(\"/data/mm_singlecell/refdata-cellranger-GRCh38-1.2.0/genes/genes.gtf\")"
   ]
  },
  {
   "cell_type": "raw",
   "metadata": {},
   "source": [
    "#CRIP1 falls just outside IGH locus:\n",
    "gene_loci[(gene_loci.gene_name==\"CRIP1\") & (gene_loci.feature==\"gene\")]"
   ]
  },
  {
   "cell_type": "markdown",
   "metadata": {},
   "source": [
    "## Using https://www.ncbi.nlm.nih.gov/genome/gdv/browser/genome/?id=GCF_000001405.39 for hg38, find the location of immunoglobulin loci (will hardcode these values below)"
   ]
  },
  {
   "cell_type": "markdown",
   "metadata": {},
   "source": [
    "#### IGH locus: 105,586,437 - 106,879,844 on chr14\n",
    "#### IGL locus:  22,026,076 - 22,922,913 on chr22\n",
    "#### IGK locus: Chr2: 88,857,361 - 90,235,368"
   ]
  },
  {
   "cell_type": "markdown",
   "metadata": {},
   "source": [
    "#### if on same chromosome (seqname is chromosome) and EITHER the genes start or end falls within the locus (i.e. there is some overlap), we will remove from analysis"
   ]
  },
  {
   "cell_type": "code",
   "execution_count": null,
   "metadata": {},
   "outputs": [],
   "source": [
    "IGH_genes_to_rm = gene_loci.loc[(gene_loci.seqname=='14')&\n",
    "              (gene_loci.feature=='gene')&\n",
    "              (\n",
    "                  ((105586437 <= gene_loci.start) & (gene_loci.start  <= 106879844)) | \n",
    "                  ((105586437 <= gene_loci.end) & (gene_loci.end  <= 106879844))\n",
    "              ),\n",
    "              ['gene_name', 'seqname', 'start', 'end']].drop_duplicates().gene_name"
   ]
  },
  {
   "cell_type": "code",
   "execution_count": null,
   "metadata": {},
   "outputs": [],
   "source": [
    "IGL_genes_to_rm = gene_loci.loc[(gene_loci.seqname=='22')&\n",
    "              (gene_loci.feature=='gene')&\n",
    "              (\n",
    "                  ((22026076 <= gene_loci.start) & (gene_loci.start  <= 22922913)) | \n",
    "                  ((22026076 <= gene_loci.end) & (gene_loci.end  <= 22922913))\n",
    "              ),\n",
    "              ['gene_name', 'seqname', 'start', 'end']].drop_duplicates().gene_name"
   ]
  },
  {
   "cell_type": "code",
   "execution_count": null,
   "metadata": {},
   "outputs": [],
   "source": [
    "IGK_genes_to_rm = gene_loci.loc[(gene_loci.seqname=='2')&\n",
    "              (gene_loci.feature=='gene')&\n",
    "              (\n",
    "                  ((88857361 <= gene_loci.start) & (gene_loci.start  <= 90235368)) | \n",
    "                  ((88857361 <= gene_loci.end) & (gene_loci.end  <= 90235368))\n",
    "              ),\n",
    "              ['gene_name', 'seqname', 'start', 'end']].drop_duplicates().gene_name"
   ]
  },
  {
   "cell_type": "code",
   "execution_count": null,
   "metadata": {},
   "outputs": [],
   "source": [
    "ig_genes = IGH_genes_to_rm.tolist() + IGL_genes_to_rm.tolist() + IGK_genes_to_rm.tolist()\n",
    "print(len(ig_genes))"
   ]
  },
  {
   "cell_type": "code",
   "execution_count": null,
   "metadata": {},
   "outputs": [],
   "source": [
    "# write the IG genes to a file, I'll want to remove these in other analyses too\n",
    "pd.Series(ig_genes).to_csv(\"data/ig_locus_genes.txt\", index=False, header=False)"
   ]
  }
 ],
 "metadata": {
  "kernelspec": {
   "display_name": "mm_singlecell_v2",
   "language": "python",
   "name": "mm_singlecell_v2"
  },
  "language_info": {
   "codemirror_mode": {
    "name": "ipython",
    "version": 3
   },
   "file_extension": ".py",
   "mimetype": "text/x-python",
   "name": "python",
   "nbconvert_exporter": "python",
   "pygments_lexer": "ipython3",
   "version": "3.6.13"
  }
 },
 "nbformat": 4,
 "nbformat_minor": 2
}
